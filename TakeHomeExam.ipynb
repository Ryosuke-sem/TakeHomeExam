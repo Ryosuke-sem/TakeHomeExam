{
  "nbformat": 4,
  "nbformat_minor": 0,
  "metadata": {
    "colab": {
      "name": "TakeHomeExam.ipynb",
      "private_outputs": true,
      "provenance": [],
      "include_colab_link": true
    },
    "kernelspec": {
      "name": "python3",
      "display_name": "Python 3"
    },
    "language_info": {
      "name": "python"
    }
  },
  "cells": [
    {
      "cell_type": "markdown",
      "metadata": {
        "id": "view-in-github",
        "colab_type": "text"
      },
      "source": [
        "<a href=\"https://colab.research.google.com/github/Ryosuke-sem/TakeHomeExam/blob/main/TakeHomeExam.ipynb\" target=\"_parent\"><img src=\"https://colab.research.google.com/assets/colab-badge.svg\" alt=\"Open In Colab\"/></a>"
      ]
    },
    {
      "cell_type": "markdown",
      "metadata": {
        "id": "JdH_uY2BBCj_"
      },
      "source": [
        "#Data and Social Media Analysis\n",
        "## Unofficial midterm aka. take home exam for the pandas part of this course\n",
        "\n",
        "Feel free to use any means available to you such as class notebooks, lecture vidoes, Google, StackOverFlow, online tutorials etc. The only thing I ask is that you do this yourself. This means not asking your programmer friend for help or posting a question from the exam on stackoverflow or similar.\n",
        "Good luck!!!\n",
        "\n",
        "1. Read in the ramen ratings file as a dataframe\n",
        "2. set appropriate index and column names and print out an overview of the dataframe\n",
        "3. Print a subset of the dataframe that only has the information of the brand of ramen and its score (hint: not groupby, or creation of new dataframe. How can we access specific rows or columns of data?)\n",
        "5. Oh no, it seems the last column is full of null values. Convert these to NaN.\n",
        "4. Display only the rows where the brand is Nissin and the rating is above 3.5 (some data type conversion might be necessary)\n",
        "\n",
        "6. Group the ramen by brand and calculate the mean, max, and min values in a single output.\n",
        "\n",
        "7. What is the mode rating for all ramen?\n",
        "8. Groupby brand and variety. Can you figure out a way to display this information in descending order (highest to lowest)? Which has the highest average?\n",
        "8. How many different brands of ramen are included in the dataset?"
      ]
    },
    {
      "cell_type": "code",
      "metadata": {
        "id": "qZ-MDwJbSLv0"
      },
      "source": [
        "#make it possible with GitHub to accese others, \"private\" to \"public.\"\n",
        "#1\n",
        "import pandas as pd\n",
        "df = pd.read_csv('ramen-ratings.csv', index_col=0)\n",
        "#2\n",
        "df.head()"
      ],
      "execution_count": null,
      "outputs": []
    },
    {
      "cell_type": "code",
      "metadata": {
        "id": "CqhzcmrFZIxk"
      },
      "source": [
        "#3 brand and scores(stars) only\n",
        "newdf = df[[\"Brand\",\"Stars\"]]\n",
        "newdf.head()"
      ],
      "execution_count": null,
      "outputs": []
    },
    {
      "cell_type": "code",
      "metadata": {
        "id": "9ftM5nLXcqTD"
      },
      "source": [
        "#4. already done it.(I think)"
      ],
      "execution_count": null,
      "outputs": []
    },
    {
      "cell_type": "code",
      "metadata": {
        "id": "TQoHy8vjdZkQ"
      },
      "source": [
        "#5 Nissin and above 3.5\n",
        "df[(df.Brand == 'Nissin') & (df.Stars > str(3.5))]"
      ],
      "execution_count": null,
      "outputs": []
    },
    {
      "cell_type": "code",
      "metadata": {
        "id": "-BNSjTHlxM7P"
      },
      "source": [
        "#6\n",
        "import numpy as np\n",
        "pd.to_numeric(df['Stars'], errors='coerce')\n",
        "df.groupby('Brand').Stars.agg([min, max, np.mean])"
      ],
      "execution_count": null,
      "outputs": []
    },
    {
      "cell_type": "code",
      "metadata": {
        "id": "lRBzTIBmmgqD"
      },
      "source": [
        "#7\n",
        "df[\"Stars\"].mode()"
      ],
      "execution_count": null,
      "outputs": []
    },
    {
      "cell_type": "code",
      "metadata": {
        "id": "F_97PCMdn972"
      },
      "source": [
        "#8\n",
        "df.groupby('Brand').Stars.mean()"
      ],
      "execution_count": null,
      "outputs": []
    },
    {
      "cell_type": "code",
      "metadata": {
        "id": "sxiVnZhLEJAP"
      },
      "source": [
        "df.groupby('Variety').Stars.mean()"
      ],
      "execution_count": null,
      "outputs": []
    },
    {
      "cell_type": "code",
      "metadata": {
        "id": "wYSr5ER3sYME"
      },
      "source": [
        "#9\n",
        "len(set(df['Brand']))"
      ],
      "execution_count": null,
      "outputs": []
    }
  ]
}